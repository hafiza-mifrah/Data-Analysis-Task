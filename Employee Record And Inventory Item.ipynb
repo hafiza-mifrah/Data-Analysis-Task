{
 "cells": [
  {
   "cell_type": "markdown",
   "id": "7baf1923-f144-45e0-8849-77c179db1a8e",
   "metadata": {},
   "source": [
    "# 1: Suppose you need to store and manage employee records where each record includes an\n",
    "# employee's ID, name, and department. (Use tuples to represent each employee record)."
   ]
  },
  {
   "cell_type": "code",
   "execution_count": 29,
   "id": "49980c2c-468f-407c-801e-e7913f7f7fdf",
   "metadata": {},
   "outputs": [
    {
     "name": "stdout",
     "output_type": "stream",
     "text": [
      "ID: 133, Name: Ahmed, Department: HR\n",
      "ID: 144, Name: Bilal, Department: Marketing\n",
      "ID: 155, Name: Umer, Department: Engineering\n",
      "ID: 166, Name: Salman, Department: Finance\n",
      "Employee found: ID: 133, Name: Ahmed, Department: HR\n",
      "Employee department updated.\n"
     ]
    }
   ],
   "source": [
    "employee = (122, \"Ali\", \"Engineering\")\n",
    "employee_records = [\n",
    "    (133, \"Ahmed\", \"HR\"),\n",
    "    (144, \"Bilal\", \"Marketing\"),\n",
    "    (155, \"Umer\", \"Engineering\"),\n",
    "    (166, \"Salman\", \"Finance\")]\n",
    "for record in employee_records:\n",
    "    print(f\"ID: {record[0]}, Name: {record[1]}, Department: {record[2]}\")\n",
    "\n",
    "# Example usage:\n",
    "employee = find_employee_by_id(employee_records, 133)\n",
    "if employee:\n",
    "    print(f\"Employee found: ID: {employee[0]}, Name: {employee[1]}, Department: {employee[2]}\")\n",
    "else:\n",
    "    print(\"Employee not found.\")\n",
    "    \n",
    "new_employee = (177, \"Anas\", \"Sales\")\n",
    "employee_records.append(new_employee)\n",
    "\n",
    "\n",
    "# Example usage:\n",
    "if update_employee_department(employee_records, 133, \"Public Relations\"):\n",
    "    print(\"Employee department updated.\")\n",
    "else:\n",
    "    print(\"Employee not found.\")"
   ]
  },
  {
   "cell_type": "markdown",
   "id": "ef36938b-3752-4ee3-abb3-858c253a6fff",
   "metadata": {},
   "source": [
    "# 2: Suppose you are managing an inventory system where each item has an item ID, description,\n",
    "# and quantity available. (Use tuples to represent each inventory item)."
   ]
  },
  {
   "cell_type": "code",
   "execution_count": 43,
   "id": "101637eb-5d2f-4fe7-9eae-57c88a303ebf",
   "metadata": {},
   "outputs": [
    {
     "name": "stdout",
     "output_type": "stream",
     "text": [
      "\n",
      "ID\tDescription\tQuantity\n",
      "111\tLaptop\t\t50\n",
      "222\tMouse\t\t150\n",
      "333\tKeyboard\t\t75\n",
      "444\tMonitor\t\t30\n",
      "555\tPrinter\t\t20\n"
     ]
    }
   ],
   "source": [
    "# Inventory system represented as a list of tuples\n",
    "inventory = [\n",
    "    (111, \"Laptop\", 50),\n",
    "    (222, \"Mouse\", 150),\n",
    "    (333,\"Keyboard\",75),\n",
    "    (444, \"Monitor\", 30),\n",
    "    (555, \"Printer\", 20)\n",
    "]\n",
    "\n",
    "# Function to display the inventory\n",
    "def display_inventory(inventory):\n",
    "    print(\"ID\\tDescription\\tQuantity\")\n",
    "    \n",
    "    for item in inventory:\n",
    "        print(f\"{item[0]}\\t{item[1]}\\t\\t{item[2]}\")\n",
    "\n",
    "# Display the inventory\n",
    "display_inventory(inventory)\n"
   ]
  },
  {
   "cell_type": "code",
   "execution_count": null,
   "id": "7a9c8fa1-15bd-45d9-b34d-a320bf2ff166",
   "metadata": {},
   "outputs": [],
   "source": []
  }
 ],
 "metadata": {
  "kernelspec": {
   "display_name": "Python 3 (ipykernel)",
   "language": "python",
   "name": "python3"
  },
  "language_info": {
   "codemirror_mode": {
    "name": "ipython",
    "version": 3
   },
   "file_extension": ".py",
   "mimetype": "text/x-python",
   "name": "python",
   "nbconvert_exporter": "python",
   "pygments_lexer": "ipython3",
   "version": "3.12.4"
  }
 },
 "nbformat": 4,
 "nbformat_minor": 5
}
