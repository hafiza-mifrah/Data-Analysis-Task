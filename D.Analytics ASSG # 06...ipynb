{
 "cells": [
  {
   "cell_type": "markdown",
   "id": "abc38763-2ddc-4128-8a9b-43893c3e21ce",
   "metadata": {},
   "source": [
    "# 1. Write a Python program to construct the following pattern, using a nested for loop.\n",
    "\n",
    "*\n",
    "* *\n",
    "* * *\n",
    "* * * *\n",
    "* * * * *\n",
    "* * * *\n",
    "* * *\n",
    "* *\n",
    "*\n"
   ]
  },
  {
   "cell_type": "code",
   "execution_count": 45,
   "id": "9faddf47-d343-42e7-8c16-8d33f7977e6b",
   "metadata": {},
   "outputs": [
    {
     "name": "stdout",
     "output_type": "stream",
     "text": [
      "*\n",
      "**\n",
      "***\n",
      "****\n",
      "*****\n",
      "****\n",
      "***\n",
      "**\n",
      "*\n"
     ]
    }
   ],
   "source": [
    "\n",
    "\n",
    "\n",
    "# let five number of rows \n",
    "rows = 5\n",
    "\n",
    "#applying for loop to get the required pattern\n",
    "# first, divide the pattern into two parts \n",
    "\n",
    "# for upper part\n",
    "\n",
    "for n in range(1, rows+1):  \n",
    "    for m in range(n): \n",
    "        print(\"*\", end=\"\") \n",
    "    print()  \n",
    "\n",
    "# for lower part \n",
    "for n in range(rows-1,0,-1):  \n",
    "    for m in range(n): \n",
    "        print(\"*\", end=\"\") \n",
    "    print()  \n"
   ]
  },
  {
   "cell_type": "markdown",
   "id": "2a7a9584-9987-4577-a96f-9b477bc2bf1d",
   "metadata": {},
   "source": [
    "# 2. Write a Python program to check whether an alphabet which is given by user in input prompt is a vowel or consonant."
   ]
  },
  {
   "cell_type": "code",
   "execution_count": 53,
   "id": "c8de4f1f-422e-47c9-abee-fe787974d3e6",
   "metadata": {},
   "outputs": [
    {
     "name": "stdin",
     "output_type": "stream",
     "text": [
      "enter the alphabet R\n"
     ]
    },
    {
     "name": "stdout",
     "output_type": "stream",
     "text": [
      "R is a consonant\n"
     ]
    }
   ],
   "source": [
    "# taking input function\n",
    "\n",
    "letter = input(\"enter the alphabet\")\n",
    "\n",
    "#using if else condition\n",
    "\n",
    "if letter in ('a','e','i','o','u','A','E','I','O','U'):\n",
    "    print(letter,'is a vowel')\n",
    "else:\n",
    "    print(letter,'is a consonant')"
   ]
  },
  {
   "cell_type": "markdown",
   "id": "725a24ca-a667-4992-8fb4-31e61f7ec7e1",
   "metadata": {},
   "source": [
    "# 3. Write a Python program to create the multiplication table (from 1 to 10)\n",
    "of a number and the number will be given by user in input prompt.\n",
    "Expected Output:\n",
    "\n",
    "Input a number: 6                                                      \n",
    "6 x 1 = 6                                                              \n",
    "6 x 2 = 12                                                              \n",
    "6 x 3 = 18                                                              \n",
    "6 x 4 = 24                                                              \n",
    "6 x 5 = 30                                                              \n",
    "6 x 6 = 36                                                              \n",
    "6 x 7 = 42                                                              \n",
    "6 x 8 = 48                                                              \n",
    "6 x 9 = 54                                                              \n",
    "6 x 10 = 60"
   ]
  },
  {
   "cell_type": "code",
   "execution_count": 55,
   "id": "491f6b68-cb7b-4450-9f56-8531e6faede3",
   "metadata": {},
   "outputs": [
    {
     "name": "stdin",
     "output_type": "stream",
     "text": [
      "Enter your number 2\n"
     ]
    },
    {
     "name": "stdout",
     "output_type": "stream",
     "text": [
      "2 * 1 = 2\n",
      "2 * 2 = 4\n",
      "2 * 3 = 6\n",
      "2 * 4 = 8\n",
      "2 * 5 = 10\n",
      "2 * 6 = 12\n",
      "2 * 7 = 14\n",
      "2 * 8 = 16\n",
      "2 * 9 = 18\n",
      "2 * 10 = 20\n"
     ]
    }
   ],
   "source": [
    "#METHOD #01\n",
    "\n",
    "#taking input function as num\n",
    "\n",
    "num=int(input('Enter your number'))\n",
    "\n",
    "#using for loop\n",
    "for number in range(1,11):\n",
    "    print(num,'*',number,'=',number*num)"
   ]
  },
  {
   "cell_type": "code",
   "execution_count": 57,
   "id": "9651b6ea-2d9f-4f42-9519-4391091161a7",
   "metadata": {},
   "outputs": [
    {
     "name": "stdin",
     "output_type": "stream",
     "text": [
      "Enter your number 7\n"
     ]
    },
    {
     "name": "stdout",
     "output_type": "stream",
     "text": [
      "7*1=5\n",
      "7*2=10\n",
      "7*3=15\n",
      "7*4=20\n",
      "7*5=25\n",
      "7*6=30\n",
      "7*7=35\n",
      "7*8=40\n",
      "7*9=45\n",
      "7*10=50\n"
     ]
    }
   ],
   "source": [
    "#METHOD #02\n",
    "\n",
    "#taking input function as num\n",
    "\n",
    "num=int(input('Enter your number'))\n",
    "for number in range(1,11):\n",
    "    result= number *i\n",
    "    print(f\"{num}*{number}={result}\")"
   ]
  },
  {
   "cell_type": "markdown",
   "id": "68eb98e3-0a29-4309-83e7-494c517d6490",
   "metadata": {},
   "source": [
    "# 4. Write a Python program to guess a number between 1 and 9.\n",
    "\n",
    "Note : User is prompted to enter a guess. If the user guesses wrong then the prompt appears again until the guess is correct, on successful guess, user will get a \"Well guessed!\" message, and the program will exit.\n"
   ]
  },
  {
   "cell_type": "code",
   "execution_count": 37,
   "id": "da3bdc27-f8e8-4d24-8116-a84ed82bc921",
   "metadata": {},
   "outputs": [
    {
     "name": "stdin",
     "output_type": "stream",
     "text": [
      "Guess a number between 1 and 9:  7\n"
     ]
    },
    {
     "name": "stdout",
     "output_type": "stream",
     "text": [
      "Well guessed!\n"
     ]
    }
   ],
   "source": [
    "# METHOD #01\n",
    "\n",
    "#let 5 be the correct target number to guess\n",
    "\n",
    "target_number = 7\n",
    "\n",
    "while True:\n",
    "    guess = int(input(\"Guess a number between 1 and 9: \"))\n",
    "    if guess == target_number:\n",
    "        print(\"Well guessed!\")\n",
    "\n",
    "        break\n",
    "    else:\n",
    "        print(\"Try again!\")\n"
   ]
  },
  {
   "cell_type": "markdown",
   "id": "73ad9a81-60e5-4316-b5fc-16b4fb460112",
   "metadata": {},
   "source": [
    "# Write a  Python program to filter the height and width of students, which are stored in a dictionary.\n",
    "Original Dictionary:\n",
    "{'Cierra Vega': (6.2, 70), 'Alden Cantrell': (5.9, 65), 'Kierra Gentry': (6.0, 68), 'Pierre Cox': (5.8, 66)}\n",
    "Height > 6ft and Weight> 70kg:\n",
    "{'Cierra Vega': (6.2, 70)}"
   ]
  },
  {
   "cell_type": "code",
   "execution_count": 39,
   "id": "14b628ef-67a0-47d3-aeb2-c4b4dba3f12f",
   "metadata": {},
   "outputs": [
    {
     "name": "stdout",
     "output_type": "stream",
     "text": [
      "Height > 6ft and Weight > 70kg:\n",
      "{}\n"
     ]
    }
   ],
   "source": [
    "students = {\n",
    "    'Cierra Vega': (6.2, 70),\n",
    "    'Alden Cantrell': (5.9, 65),\n",
    "    'Kierra Gentry': (6.0, 68),\n",
    "    'Pierre Cox': (5.8, 66)\n",
    "}\n",
    "\n",
    "# Create an empty dictionary to store the filtered students\n",
    "filtered_students = {}\n",
    "\n",
    "for name, (height, weight) in students.items():\n",
    "    # Check if the height is greater than 6.0 and weight is greater than 70\n",
    "    if height > 6.0 and weight > 70:\n",
    "        filtered_students[name] = (height, weight)\n",
    "\n",
    "print(\"Height > 6ft and Weight > 70kg:\")\n",
    "print(filtered_students)\n"
   ]
  },
  {
   "cell_type": "markdown",
   "id": "ea9c0c39-b659-4e05-a486-8ee9aefa4bb7",
   "metadata": {},
   "source": [
    "# A  Python dictionary contains List as a value. Write a Python program to clear the list values in the said dictionary.\n",
    "Original Dictionary:\n",
    "{'C1': [10, 20, 30], 'C2': [20, 30, 40], 'C3': [12, 34]}\n",
    "Clear the list values in the said dictionary:\n",
    "{'C1': [], 'C2': [], 'C3': []}"
   ]
  },
  {
   "cell_type": "code",
   "execution_count": 59,
   "id": "0f5c7ad2-8062-4fff-97d3-513eecf9eb45",
   "metadata": {},
   "outputs": [
    {
     "name": "stdout",
     "output_type": "stream",
     "text": [
      "Clear the list values in the said dictionary:\n",
      "{'C1': [], 'C2': [], 'C3': []}\n"
     ]
    }
   ],
   "source": [
    "# Original dictionary with lists as values\n",
    "original_dict = {'C1': [10, 20, 30], 'C2': [20, 30, 40], 'C3': [12, 34]}\n",
    "\n",
    "# using for Loop \n",
    "for key in original_dict:\n",
    "    # Clear the list by assigning an empty list to each key\n",
    "    original_dict[key] = []\n",
    "\n",
    "# modified dictionary \n",
    "print(\"Clear the list values in the said dictionary:\")\n",
    "print(original_dict)\n"
   ]
  },
  {
   "cell_type": "code",
   "execution_count": null,
   "id": "612b54f5-166e-4546-8207-bd687884f95d",
   "metadata": {},
   "outputs": [],
   "source": []
  },
  {
   "cell_type": "code",
   "execution_count": 63,
   "id": "ef4a4f94-c9ad-4d8a-a1d0-b1553d1fbb09",
   "metadata": {},
   "outputs": [
    {
     "name": "stdout",
     "output_type": "stream",
     "text": [
      "The Nile runs through Egypt.\n",
      "The Amazon runs through Brazil.\n",
      "The Ravi runs through Pakistan.\n",
      "\n",
      "Rivers included in the dictionary:\n",
      "Nile\n",
      "Amazon\n",
      "Ravi\n",
      "\n",
      "Countries included in the dictionary:\n",
      "Egypt\n",
      "Brazil\n",
      "Pakistan\n"
     ]
    }
   ],
   "source": [
    "# given dict\n",
    "rivers = {\n",
    "    'nile': 'egypt',\n",
    "    'amazon': 'brazil',\n",
    "    'ravi': 'pakistan'\n",
    "}\n",
    "\n",
    "# using for loop \n",
    "for river, country in rivers.items():\n",
    "    print(f\"The {river.title()} runs through {country.title()}.\")\n",
    "\n",
    "# again using for loop to print the name of each river\n",
    "print(\"\\nRivers included in the dictionary:\")\n",
    "for river in rivers.keys():\n",
    "    print(river.title())\n",
    "\n",
    "# using for  Loop to print the name of each country\n",
    "print(\"\\nCountries included in the dictionary:\")\n",
    "for country in rivers.values():\n",
    "    print(country.title())\n"
   ]
  },
  {
   "cell_type": "markdown",
   "id": "3fdece47-639d-4987-999f-4864bf18e74f",
   "metadata": {},
   "source": [
    "# 8. Movie Tickets: A movie theater charges different ticket prices depending on\n",
    "a person’s age. If a person is under the age of 3, the ticket is free; if they are\n",
    "between 3 and 12, the ticket is $10; and if they are over age 12, the ticket is\n",
    "$15. Write a loop in which you ask users their age, and then tell them the cost\n",
    "of their movie ticket."
   ]
  },
  {
   "cell_type": "code",
   "execution_count": 67,
   "id": "2e49fd31-2641-4b21-b720-8580f40f040a",
   "metadata": {},
   "outputs": [
    {
     "name": "stdin",
     "output_type": "stream",
     "text": [
      "Please enter your age (or type -1 to exit):  7\n"
     ]
    },
    {
     "name": "stdout",
     "output_type": "stream",
     "text": [
      "Please enter a valid number.\n"
     ]
    },
    {
     "name": "stdin",
     "output_type": "stream",
     "text": [
      "Please enter your age (or type -1 to exit):  -1\n"
     ]
    },
    {
     "name": "stdout",
     "output_type": "stream",
     "text": [
      "Exiting the program.\n"
     ]
    }
   ],
   "source": [
    "#using while loop \n",
    "\n",
    "while True:\n",
    "    age_input = input(\"Please enter your age (or type -1 to exit): \")\n",
    "    \n",
    "    # Check if the user wants to exit\n",
    "    if age_input == '-1':\n",
    "        print(\"Exiting the program.\")\n",
    "        break\n",
    "    \n",
    "    # Check if the input is a valid number\n",
    "        \n",
    "        if age == -1:\n",
    "            print(\"Exiting the program.\")\n",
    "            break\n",
    "        elif age < 3:\n",
    "            print(\"Your ticket is free!\")\n",
    "        elif 3 <= age <= 12:\n",
    "            print(\"Your ticket costs $10.\")\n",
    "        elif age > 12:\n",
    "            print(\"Your ticket costs $15.\")\n",
    "        else:\n",
    "            print(\"Invalid age entered.\")\n",
    "    else:\n",
    "        print(\"Please enter a valid number.\")"
   ]
  },
  {
   "cell_type": "code",
   "execution_count": null,
   "id": "14a1d124-a1c9-4179-9cd5-a7f371b8a3e2",
   "metadata": {},
   "outputs": [],
   "source": []
  },
  {
   "cell_type": "code",
   "execution_count": null,
   "id": "a77057ce-2fdd-4ff7-8154-f12eb66ca26c",
   "metadata": {},
   "outputs": [],
   "source": []
  },
  {
   "cell_type": "code",
   "execution_count": null,
   "id": "9e4aa4a0-b58e-4681-962e-b69ff60e3ea8",
   "metadata": {},
   "outputs": [],
   "source": []
  },
  {
   "cell_type": "code",
   "execution_count": null,
   "id": "b282b939-0b43-40b7-9227-7fdb8685fe21",
   "metadata": {},
   "outputs": [],
   "source": []
  }
 ],
 "metadata": {
  "kernelspec": {
   "display_name": "Python 3 (ipykernel)",
   "language": "python",
   "name": "python3"
  },
  "language_info": {
   "codemirror_mode": {
    "name": "ipython",
    "version": 3
   },
   "file_extension": ".py",
   "mimetype": "text/x-python",
   "name": "python",
   "nbconvert_exporter": "python",
   "pygments_lexer": "ipython3",
   "version": "3.12.4"
  }
 },
 "nbformat": 4,
 "nbformat_minor": 5
}
