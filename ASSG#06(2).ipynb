{
 "cells": [
  {
   "cell_type": "code",
   "execution_count": 17,
   "id": "d99487dd-d9d5-4c52-a8b1-dbcef74388de",
   "metadata": {},
   "outputs": [],
   "source": [
    "n=4\n",
    "m=4\n",
    "symbol=*"
   ]
  },
  {
   "cell_type": "code",
   "execution_count": 25,
   "id": "a003ca5c-845a-4a81-99a7-62005aba9d58",
   "metadata": {},
   "outputs": [
    {
     "ename": "NameError",
     "evalue": "name 'symbol' is not defined",
     "output_type": "error",
     "traceback": [
      "\u001b[1;31m---------------------------------------------------------------------------\u001b[0m",
      "\u001b[1;31mNameError\u001b[0m                                 Traceback (most recent call last)",
      "Cell \u001b[1;32mIn[25], line 3\u001b[0m\n\u001b[0;32m      1\u001b[0m \u001b[38;5;28;01mfor\u001b[39;00m n \u001b[38;5;129;01min\u001b[39;00m \u001b[38;5;28mrange\u001b[39m(\u001b[38;5;241m5\u001b[39m):\n\u001b[0;32m      2\u001b[0m     \u001b[38;5;28;01mfor\u001b[39;00m m \u001b[38;5;129;01min\u001b[39;00m \u001b[38;5;28mrange\u001b[39m(\u001b[38;5;241m5\u001b[39m):\n\u001b[1;32m----> 3\u001b[0m         \u001b[38;5;28mprint\u001b[39m(symbol)\n",
      "\u001b[1;31mNameError\u001b[0m: name 'symbol' is not defined"
     ]
    }
   ],
   "source": [
    "for n in range(5):\n",
    "    for m in range(5):\n",
    "        print(symbol)"
   ]
  },
  {
   "cell_type": "code",
   "execution_count": null,
   "id": "7cfceae9-2079-47c3-a54d-808e7d594a78",
   "metadata": {},
   "outputs": [],
   "source": []
  }
 ],
 "metadata": {
  "kernelspec": {
   "display_name": "Python 3 (ipykernel)",
   "language": "python",
   "name": "python3"
  },
  "language_info": {
   "codemirror_mode": {
    "name": "ipython",
    "version": 3
   },
   "file_extension": ".py",
   "mimetype": "text/x-python",
   "name": "python",
   "nbconvert_exporter": "python",
   "pygments_lexer": "ipython3",
   "version": "3.12.4"
  }
 },
 "nbformat": 4,
 "nbformat_minor": 5
}
