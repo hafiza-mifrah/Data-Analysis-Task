{
 "cells": [
  {
   "cell_type": "markdown",
   "id": "de70bdbb-07ed-40f9-826c-e450c079a226",
   "metadata": {},
   "source": [
    " # Program which takes 5 inputs from user for different subject’s marks, total it  and generate mark sheet using grades "
   ]
  },
  {
   "cell_type": "code",
   "execution_count": null,
   "id": "4f841b20-842a-4619-998b-3d88f17f17de",
   "metadata": {},
   "outputs": [],
   "source": [
    "# taking input from user"
   ]
  },
  {
   "cell_type": "code",
   "execution_count": null,
   "id": "0abf277e-9a7e-4eb8-8c3f-07402611c82b",
   "metadata": {},
   "outputs": [],
   "source": [
    "subject1 = int(input(\"Enter marks for subject 1: \"))\n",
    "subject2 = int(input(\"Enter marks for subject 2: \"))\n",
    "subject3 = int(input(\"Enter marks for subject 3: \"))\n",
    "subject4 = int(input(\"Enter marks for subject 4: \"))\n",
    "subject5 = int(input(\"Enter marks for subject 5: \"))"
   ]
  },
  {
   "cell_type": "code",
   "execution_count": null,
   "id": "3318ca41-1e9e-4f9a-931f-5e67a321e00a",
   "metadata": {},
   "outputs": [],
   "source": [
    "# Calculate the total marks"
   ]
  },
  {
   "cell_type": "code",
   "execution_count": null,
   "id": "2513f7d4-fb73-4254-b104-814b70862666",
   "metadata": {},
   "outputs": [],
   "source": [
    "total_marks = subject1 + subject2 + subject3 + subject4 + subject5"
   ]
  },
  {
   "cell_type": "code",
   "execution_count": null,
   "id": "be5a26bd-2778-423a-861f-58371d286b39",
   "metadata": {},
   "outputs": [],
   "source": [
    "# Calculate the average marks\n",
    "average_marks = total_marks / 5"
   ]
  },
  {
   "cell_type": "code",
   "execution_count": null,
   "id": "401d43ef-392f-48c8-91be-baad5d1461bb",
   "metadata": {},
   "outputs": [],
   "source": [
    "# Assign grades based on average marks"
   ]
  },
  {
   "cell_type": "code",
   "execution_count": null,
   "id": "9d9d7933-6637-4491-8941-1bcded32de44",
   "metadata": {},
   "outputs": [],
   "source": [
    "if (average_marks>=80):\n",
    "    grade='A Grade'\n",
    "elif(average_marks>=60):\n",
    "    grade='B Grade'\n",
    "elif(average_marks>=40):\n",
    "    grade='C Grade'\n",
    "else:\n",
    "    grade=\"Fail\""
   ]
  },
  {
   "cell_type": "code",
   "execution_count": null,
   "id": "ccce3391-03da-4bf1-87b7-3e2865f8dd55",
   "metadata": {},
   "outputs": [],
   "source": [
    "# print marksheet"
   ]
  },
  {
   "cell_type": "code",
   "execution_count": null,
   "id": "11010293-f9fc-4064-9230-697ac9b054de",
   "metadata": {},
   "outputs": [],
   "source": [
    "print(\"Mark Sheet\")\n",
    "print(\"total_marks:\",marks)\n",
    "print(\"average_marks:\",grade)"
   ]
  },
  {
   "cell_type": "code",
   "execution_count": null,
   "id": "9a351ede-998f-4530-98ae-1ae0d6534490",
   "metadata": {},
   "outputs": [],
   "source": []
  },
  {
   "cell_type": "code",
   "execution_count": null,
   "id": "1f5adb61-74a3-4b0e-8c89-941c3bbba5cc",
   "metadata": {},
   "outputs": [],
   "source": []
  }
 ],
 "metadata": {
  "kernelspec": {
   "display_name": "Python 3 (ipykernel)",
   "language": "python",
   "name": "python3"
  },
  "language_info": {
   "codemirror_mode": {
    "name": "ipython",
    "version": 3
   },
   "file_extension": ".py",
   "mimetype": "text/x-python",
   "name": "python",
   "nbconvert_exporter": "python",
   "pygments_lexer": "ipython3",
   "version": "3.12.4"
  }
 },
 "nbformat": 4,
 "nbformat_minor": 5
}
