{
 "cells": [
  {
   "cell_type": "markdown",
   "id": "546425af-e9cf-47e7-bf57-1697caced440",
   "metadata": {},
   "source": [
    "# 3: You need to store the dates and times of scheduled events, like meetings or\n",
    "# appointments. (Use tuples to store date and time information)."
   ]
  },
  {
   "cell_type": "code",
   "execution_count": 25,
   "id": "6f86956a-9574-4158-8872-1191235d8e3e",
   "metadata": {},
   "outputs": [
    {
     "name": "stdout",
     "output_type": "stream",
     "text": [
      "Meeting scheduled on 2024-08-20 at 14:30\n",
      "Meeting scheduled on 2024-08-21 at 09:00\n",
      "Meeting scheduled on 2024-08-22 at 16:15\n"
     ]
    }
   ],
   "source": [
    "# Create list to store scheduled meetings\n",
    "meetings = []\n",
    "\n",
    "# Add meetings with date and time as tuples\n",
    "meetings.append(('2024-08-20', '14:30'))\n",
    "meetings.append(('2024-08-21', '09:00'))\n",
    "meetings.append(('2024-08-22', '16:15'))\n",
    "\n",
    "# Print the scheduled meetings\n",
    "for meeting in meetings:\n",
    "    print(f\"Meeting scheduled on {meeting[0]} at {meeting[1]}\")"
   ]
  },
  {
   "cell_type": "markdown",
   "id": "2702373c-0328-4049-95a8-e69d0c9cb2c5",
   "metadata": {},
   "source": [
    "# 4: Store a company's employee details, organized by department. (Use dictionary in dictionary). "
   ]
  },
  {
   "cell_type": "code",
   "execution_count": 37,
   "id": "00aba9fa-3fd1-4e5b-8442-85d097685a85",
   "metadata": {},
   "outputs": [
    {
     "name": "stdout",
     "output_type": "stream",
     "text": [
      "ali.sheikh@company.com\n"
     ]
    }
   ],
   "source": [
    "company_employees = {\n",
    "    \"Engineering\": {\n",
    "        \"Ali Sheikh\": {\n",
    "            \"Title\": \"Senior Software Engineer\",\n",
    "            \"ID\": \"ENG012\",\n",
    "            \"Email\": \"ali.sheikh@company.com\"\n",
    "        },\n",
    "        \"Ahmed Ali\": {\n",
    "            \"Title\": \"DevOps Engineer\",\n",
    "            \"ID\": \"ENG013\",\n",
    "            \"Email\": \"ahmed.ali@company.com\"\n",
    "        }\n",
    "    },\n",
    "    \"Marketing\": {\n",
    "        \"Umer Akber\": {\n",
    "            \"Title\": \"Marketing Manager\",\n",
    "            \"ID\": \"MKT012\",\n",
    "            \"Email\": \"umer.akber@company.com\"\n",
    "        },\n",
    "        \"Salman Ahmed\": {\n",
    "            \"Title\": \"SEO Specialist\",\n",
    "            \"ID\": \"MKT013\",\n",
    "            \"Email\": \"salman.ahmed@company.com\"\n",
    "        }\n",
    "    }\n",
    "}\n",
    "\n",
    "# Example of accessing details\n",
    "print(company_employees[\"Engineering\"][\"Ali Sheikh\"][\"Email\"])"
   ]
  },
  {
   "cell_type": "markdown",
   "id": "b57341d8-ce2e-485f-9307-1458828b94d4",
   "metadata": {},
   "source": [
    "# 5: Keep track of student scores in various subjects and retrieve a student's scores. (Use dictionary in List)."
   ]
  },
  {
   "cell_type": "code",
   "execution_count": 42,
   "id": "4947f355-4989-49b7-9c19-003405e5374e",
   "metadata": {},
   "outputs": [
    {
     "name": "stdout",
     "output_type": "stream",
     "text": [
      "{'Name': 'Umer Akber', 'Math': 92, 'Science': 87, 'English': 94, 'History': 85}\n"
     ]
    }
   ],
   "source": [
    "students_scores = [\n",
    "    {\n",
    "        \"Name\": \"Sarah Khan\",\n",
    "        \"Math\": 85,\n",
    "        \"Science\": 90,\n",
    "        \"English\": 88,\n",
    "        \"History\": 92\n",
    "    },\n",
    "    {\n",
    "        \"Name\": \"Ali Sheikh\",\n",
    "        \"Math\": 78,\n",
    "        \"Science\": 83,\n",
    "        \"English\": 89,\n",
    "        \"History\": 80\n",
    "    },\n",
    "    {\n",
    "        \"Name\": \"Umer Akber\",\n",
    "        \"Math\": 92,\n",
    "        \"Science\": 87,\n",
    "        \"English\": 94,\n",
    "        \"History\": 85\n",
    "    }\n",
    "]\n",
    "\n",
    "# Function to retrieve a student's scores\n",
    "def get_student_scores(name):\n",
    "    for student in students_scores:\n",
    "        if student[\"Name\"] == name:\n",
    "            return student\n",
    "    return f\"Student {name} not found.\"\n",
    "\n",
    "# Example of retrieving a student's scores\n",
    "print(get_student_scores(\"Umer Akber\"))"
   ]
  },
  {
   "cell_type": "code",
   "execution_count": null,
   "id": "24e4730e-842d-4ecb-9a47-5ae2d397debe",
   "metadata": {},
   "outputs": [],
   "source": []
  }
 ],
 "metadata": {
  "kernelspec": {
   "display_name": "Python 3 (ipykernel)",
   "language": "python",
   "name": "python3"
  },
  "language_info": {
   "codemirror_mode": {
    "name": "ipython",
    "version": 3
   },
   "file_extension": ".py",
   "mimetype": "text/x-python",
   "name": "python",
   "nbconvert_exporter": "python",
   "pygments_lexer": "ipython3",
   "version": "3.12.4"
  }
 },
 "nbformat": 4,
 "nbformat_minor": 5
}
