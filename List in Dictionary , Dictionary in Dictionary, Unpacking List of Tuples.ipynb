{
 "cells": [
  {
   "cell_type": "markdown",
   "id": "5c6c106a-db84-4377-a1f3-e2a2feed4ab8",
   "metadata": {},
   "source": [
    "# 6: Track various projects and their associated tasks, and retrieve tasks for a specific project. (Use List in Dictionary)."
   ]
  },
  {
   "cell_type": "code",
   "execution_count": 5,
   "id": "213534e1-bde3-4a85-8417-153bf6f71fc8",
   "metadata": {},
   "outputs": [
    {
     "name": "stdout",
     "output_type": "stream",
     "text": [
      "['Task 1: Initial setup', 'Task 2: Create layout', 'Task 3: Develop features']\n"
     ]
    }
   ],
   "source": [
    "# Dictionary to track projects and their tasks\n",
    "projects = {\n",
    "    \"Project A\": [\n",
    "        \"Task 1: Initial setup\",\n",
    "        \"Task 2: Create layout\",\n",
    "        \"Task 3: Develop features\"\n",
    "    ],\n",
    "    \"Project B\": [\n",
    "        \"Task 1: Research\",\n",
    "        \"Task 2: Draft report\",\n",
    "        \"Task 3: Finalize presentation\"\n",
    "    ],\n",
    "    \"Project C\": [\n",
    "        \"Task 1: Plan strategy\",\n",
    "        \"Task 2: Allocate resources\",\n",
    "        \"Task 3: Execute plan\"\n",
    "    ]\n",
    "}\n",
    "\n",
    "# Function to retrieve tasks for a specific project\n",
    "def get_project_tasks(project_name):\n",
    "    return projects.get(project_name, f\"Project {project_name} not found.\")\n",
    "\n",
    "#  retrieving tasks for a specific project\n",
    "print(get_project_tasks(\"Project A\"))"
   ]
  },
  {
   "cell_type": "markdown",
   "id": "732a7615-2648-4ec1-8d79-f719758c3fec",
   "metadata": {},
   "source": [
    "# 7: Manage courses and their contents in a training program and retrieve details of a specific module. (dictionary in dictionary)"
   ]
  },
  {
   "cell_type": "code",
   "execution_count": 14,
   "id": "7d37673f-2686-46f6-8d2e-7d45f3296d35",
   "metadata": {},
   "outputs": [
    {
     "name": "stdout",
     "output_type": "stream",
     "text": [
      "{'Title': 'Data Visualization', 'Duration': '3 hours', 'Description': 'Techniques and tools for visualizing data effectively.'}\n"
     ]
    }
   ],
   "source": [
    "# Dictionary to manage courses and their modules\n",
    "training_program = {\n",
    "    \"Python Programming\": {\n",
    "        \"Module 1\": {\n",
    "            \"Title\": \"Introduction to Python\",\n",
    "            \"Duration\": \"3 hours\",\n",
    "            \"Description\": \"Basics of Python, syntax, and basic programming concepts.\"\n",
    "        },\n",
    "        \"Module 2\": {\n",
    "            \"Title\": \"Data Structures in Python\",\n",
    "            \"Duration\": \"4 hours\",\n",
    "            \"Description\": \"In-depth coverage of lists, tuples, dictionaries, and sets.\"}\n",
    "        },\n",
    "       \n",
    "    \"Data Science\": {\n",
    "        \"Module 1\": {\n",
    "            \"Title\": \"Statistics for Data Science\",\n",
    "            \"Duration\": \"4 hours\",\n",
    "            \"Description\": \"Basic statistical concepts needed for data analysis.\"\n",
    "        },\n",
    "        \"Module 2\": {\n",
    "            \"Title\": \"Data Visualization\",\n",
    "            \"Duration\": \"3 hours\",\n",
    "            \"Description\": \"Techniques and tools for visualizing data effectively.\"\n",
    "\n",
    "        }\n",
    "    }\n",
    "}\n",
    "\n",
    "# Function to retrieve details of a specific module\n",
    "def get_module_details(course_name, module_name):\n",
    "    course = training_program.get(course_name)\n",
    "    if course:\n",
    "        module = course.get(module_name)\n",
    "        if module:\n",
    "            return module\n",
    "        else:\n",
    "            return f\"Module {module_name} not found in course {course_name}.\"\n",
    "    else:\n",
    "        return f\"Course {course_name} not found.\"\n",
    "\n",
    "# Example of retrieving details of a specific module\n",
    "print(get_module_details(\"Data Science\", \"Module 2\"))"
   ]
  },
  {
   "cell_type": "markdown",
   "id": "46bcc5dd-4823-430b-b406-b1bb7a41d1d0",
   "metadata": {},
   "source": [
    "# 8:You have a list where each element is a tuple containing a product's name and its price. \n",
    "# You need to find products that are below a certain price threshold. (Use unpacking lists of tuples)"
   ]
  },
  {
   "cell_type": "code",
   "execution_count": 28,
   "id": "bc3e9d03-4c6d-4c34-9308-2292c4f8575d",
   "metadata": {},
   "outputs": [
    {
     "name": "stdout",
     "output_type": "stream",
     "text": [
      "['Headphones', 'Smartwatch']\n"
     ]
    }
   ],
   "source": [
    "# List of tuples containing product name and price\n",
    "products = [\n",
    "    (\"Laptop\", 12000),\n",
    "    (\"Smartphone\", 8000),\n",
    "    (\"Tablet\", 30000),\n",
    "    (\"Headphones\", 1500),\n",
    "    (\"Smartwatch\", 2000),\n",
    "    (\"Monitor\", 25000)\n",
    "]\n",
    "\n",
    "# Price threshold\n",
    "price_threshold = 4000\n",
    "\n",
    "# Find products below the price threshold using tuple unpacking\n",
    "affordable_products = []\n",
    "for name, price in products:\n",
    "    if price < price_threshold:\n",
    "        affordable_products.append(name)\n",
    "\n",
    "# Print the affordable products\n",
    "print(affordable_products)"
   ]
  },
  {
   "cell_type": "code",
   "execution_count": null,
   "id": "44a01ead-15c0-40d1-9b57-cee9aea5eb16",
   "metadata": {},
   "outputs": [],
   "source": []
  }
 ],
 "metadata": {
  "kernelspec": {
   "display_name": "Python 3 (ipykernel)",
   "language": "python",
   "name": "python3"
  },
  "language_info": {
   "codemirror_mode": {
    "name": "ipython",
    "version": 3
   },
   "file_extension": ".py",
   "mimetype": "text/x-python",
   "name": "python",
   "nbconvert_exporter": "python",
   "pygments_lexer": "ipython3",
   "version": "3.12.4"
  }
 },
 "nbformat": 4,
 "nbformat_minor": 5
}
