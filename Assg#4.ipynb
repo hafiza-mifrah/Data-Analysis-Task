{
 "cells": [
  {
   "cell_type": "code",
   "execution_count": 391,
   "id": "aa4d5dca-61ab-4c70-adb0-5acc5b6f371b",
   "metadata": {},
   "outputs": [],
   "source": [
    "#creating guest list"
   ]
  },
  {
   "cell_type": "code",
   "execution_count": 392,
   "id": "7f65966f-e4dd-495c-ae2b-48fbfa2b00e0",
   "metadata": {},
   "outputs": [],
   "source": [
    "guest=['Akber','Zunaira','Ali','Umer']"
   ]
  },
  {
   "cell_type": "code",
   "execution_count": 393,
   "id": "52e6c911-5a37-43c2-9b82-af379bd87fe5",
   "metadata": {},
   "outputs": [],
   "source": [
    "# Print statement is used to invite them to dinner"
   ]
  },
  {
   "cell_type": "code",
   "execution_count": 394,
   "id": "93e6d2ab-9427-48a2-b8e7-5d571037d66c",
   "metadata": {},
   "outputs": [
    {
     "name": "stdout",
     "output_type": "stream",
     "text": [
      "Dear Akber  please join me for dinner.\n",
      "Dear Zunaira  please join me for dinner.\n",
      "Dear Ali  please join me for dinner.\n",
      "Dear Umer  please join me for dinner.\n"
     ]
    }
   ],
   "source": [
    "print('Dear', guest[0],' please join me for dinner.')\n",
    "print('Dear', guest[1],' please join me for dinner.')\n",
    "print('Dear', guest[2],' please join me for dinner.')\n",
    "print('Dear', guest[3],' please join me for dinner.')"
   ]
  },
  {
   "cell_type": "code",
   "execution_count": 395,
   "id": "7d60229e-b0cf-4458-b527-03d00e3d10f4",
   "metadata": {},
   "outputs": [],
   "source": [
    "#Notify that one guest can't make it\n",
    "#Replace the guest who can't make it with a new guest\n",
    "#Print the new set of invitation messages"
   ]
  },
  {
   "cell_type": "code",
   "execution_count": 396,
   "id": "8ef36e39-3351-4880-892d-b881fd940211",
   "metadata": {},
   "outputs": [
    {
     "name": "stdout",
     "output_type": "stream",
     "text": [
      "Unfortunately, Ali can't make it to the dinner.\n",
      "\n",
      "New Invitations:\n",
      "Dear Akber  please join me for dinner.\n",
      "Dear Zunaira  please join me for dinner.\n",
      "Dear Bilal  please join me for dinner.\n",
      "Dear Umer  please join me for dinner.\n"
     ]
    }
   ],
   "source": [
    "print('Unfortunately,', guest[2], \"can't make it to the dinner.\")\n",
    "guest[2]='Bilal'\n",
    "\n",
    "print('\\nNew Invitations:')\n",
    "print('Dear', guest[0],' please join me for dinner.')\n",
    "print('Dear', guest[1],' please join me for dinner.')\n",
    "print('Dear', guest[2],' please join me for dinner.')\n",
    "print('Dear', guest[3],' please join me for dinner.')"
   ]
  },
  {
   "cell_type": "code",
   "execution_count": 397,
   "id": "261e911e-d94a-4f23-a661-dc3bc0054f81",
   "metadata": {},
   "outputs": [],
   "source": [
    "#     add statement to informing people that you found a bigger dinner table\n",
    "#     Use insert() to add one new guest to the beginning of your list. \n",
    "#     Use insert() to add one new guest to the middle of your list. \n",
    "#     Use append() to add one new guest to the end of your list. \n",
    "#     Print a new set of invitation messages, one for each person in your list. "
   ]
  },
  {
   "cell_type": "code",
   "execution_count": 398,
   "id": "3aed9f60-915c-43c7-9634-97b493f260f4",
   "metadata": {},
   "outputs": [
    {
     "name": "stdout",
     "output_type": "stream",
     "text": [
      "Here, I want to inform you that i found a bigger dinner table \n",
      "\n",
      "\n",
      "['Ali', 'Akber', 'Zunaira', 'Bilal', 'Umer']\n",
      "['Ali', 'Akber', 'Salman', 'Zunaira', 'Bilal', 'Umer']\n",
      "['Ali', 'Akber', 'Salman', 'Zunaira', 'Bilal', 'Umer', 'Shayan']\n",
      "\n",
      "\n",
      "Dear Ali  please join me for dinner.\n",
      "Dear Akber  please join me for dinner.\n",
      "Dear Salman  please join me for dinner.\n",
      "Dear Zunaira  please join me for dinner.\n",
      "Dear Bilal  please join me for dinner.\n",
      "Dear Umer  please join me for dinner.\n",
      "Dear Shayan  please join me for dinner.\n"
     ]
    }
   ],
   "source": [
    "print('Here, I want to inform you that i found a bigger dinner table ')\n",
    "print('\\n')\n",
    "guest.insert(0, 'Ali')\n",
    "print(guest)\n",
    "guest.insert(2,'Salman')\n",
    "print(guest)\n",
    "guest.append('Shayan')\n",
    "print(guest)\n",
    "\n",
    "print('\\n')\n",
    "\n",
    "print('Dear', guest[0],' please join me for dinner.')\n",
    "print('Dear', guest[1],' please join me for dinner.')\n",
    "print('Dear', guest[2],' please join me for dinner.')\n",
    "print('Dear', guest[3],' please join me for dinner.')\n",
    "print('Dear', guest[4],' please join me for dinner.')\n",
    "print('Dear', guest[5],' please join me for dinner.')\n",
    "print('Dear', guest[6],' please join me for dinner.') "
   ]
  },
  {
   "cell_type": "code",
   "execution_count": 399,
   "id": "485c5d95-0064-47ba-9f85-a3b05bccf464",
   "metadata": {},
   "outputs": [],
   "source": [
    "# The new dinner table won’t arrive on time, so we can invite only two guests.\n",
    "# Use pop() to remove guests until only two remain, and notify them.\n",
    "# Print a message to the two remaining guests that they're still invited.\n",
    "# Use del to remove the last two names from the list, ensuring the list is empty.\n",
    "# Print our list to make sure we actually have an empty list at the end of our program."
   ]
  },
  {
   "cell_type": "code",
   "execution_count": 400,
   "id": "e29b4e57-0f32-44be-9de4-ed33ff2a9d12",
   "metadata": {},
   "outputs": [
    {
     "name": "stdout",
     "output_type": "stream",
     "text": [
      "['Ali', 'Akber', 'Salman', 'Zunaira', 'Bilal', 'Umer', 'Shayan']\n"
     ]
    }
   ],
   "source": [
    "print(guest)"
   ]
  },
  {
   "cell_type": "code",
   "execution_count": 401,
   "id": "3d9f19df-417f-42e0-a9d4-1dbc818c4558",
   "metadata": {},
   "outputs": [
    {
     "name": "stdout",
     "output_type": "stream",
     "text": [
      "Dear guests,I just found out new dinner table won't arrive, so i can invite only two guests\n",
      "Sorry, Shayan, we can't invite you to dinner.\n",
      "Sorry, Umer, we can't invite you to dinner.\n",
      "Sorry, Bilal, we can't invite you to dinner.\n",
      "Sorry, Zunaira, we can't invite you to dinner.\n",
      "Sorry, Salman, we can't invite you to dinner.\n",
      "\n",
      " Remaining guest: ['Ali', 'Akber']\n"
     ]
    }
   ],
   "source": [
    "print(\"Dear guests,I just found out new dinner table won't arrive, so i can invite only two guests\")\n",
    "\n",
    "removed_guest = guest.pop()\n",
    "print(f\"Sorry, {removed_guest}, we can't invite you to dinner.\")\n",
    "removed_guest = guest.pop()\n",
    "print(f\"Sorry, {removed_guest}, we can't invite you to dinner.\")\n",
    "removed_guest = guest.pop()\n",
    "print(f\"Sorry, {removed_guest}, we can't invite you to dinner.\")\n",
    "removed_guest = guest.pop()\n",
    "print(f\"Sorry, {removed_guest}, we can't invite you to dinner.\")\n",
    "removed_guest = guest.pop()\n",
    "print(f\"Sorry, {removed_guest}, we can't invite you to dinner.\")\n",
    "print(\"\\n Remaining guest:\", guest)\n"
   ]
  },
  {
   "cell_type": "code",
   "execution_count": 418,
   "id": "dbc289da-3680-43c8-ae4b-77b8533aa22d",
   "metadata": {},
   "outputs": [
    {
     "name": "stdout",
     "output_type": "stream",
     "text": [
      "Ali, you're still invited to dinner.\n",
      "Akber, you're still invited to dinner.\n"
     ]
    }
   ],
   "source": [
    "print(f\"{guest[0]}, you're still invited to dinner.\")g\n",
    "print(f\"{guest[1]}, you're still invited to dinner.\")\n"
   ]
  },
  {
   "cell_type": "code",
   "execution_count": 422,
   "id": "e4541460-2346-4cf9-aed8-5d999ddedaa6",
   "metadata": {},
   "outputs": [
    {
     "data": {
      "text/plain": [
       "['Ali', 'Akber']"
      ]
     },
     "execution_count": 422,
     "metadata": {},
     "output_type": "execute_result"
    }
   ],
   "source": [
    "guest"
   ]
  },
  {
   "cell_type": "code",
   "execution_count": 420,
   "id": "cd206da6-9fe3-464b-b36a-d33f1fb31bda",
   "metadata": {},
   "outputs": [],
   "source": [
    "#Use del to remove the last two names from your list"
   ]
  },
  {
   "cell_type": "code",
   "execution_count": 428,
   "id": "3741620a-7fac-47d7-b949-d11e8c24f6d1",
   "metadata": {},
   "outputs": [],
   "source": [
    "del guest[0:2]"
   ]
  },
  {
   "cell_type": "code",
   "execution_count": 430,
   "id": "662d5296-d1c8-43a2-acb9-e181036d066c",
   "metadata": {},
   "outputs": [
    {
     "data": {
      "text/plain": [
       "[]"
      ]
     },
     "execution_count": 430,
     "metadata": {},
     "output_type": "execute_result"
    }
   ],
   "source": [
    "guest"
   ]
  },
  {
   "cell_type": "code",
   "execution_count": 444,
   "id": "5dde0441-2c5f-4e23-84de-5c5f509a7f08",
   "metadata": {},
   "outputs": [],
   "source": [
    "# Make an another list you wish and perform indexing and slicing operations on it."
   ]
  },
  {
   "cell_type": "code",
   "execution_count": 446,
   "id": "da01cfe1-ca4b-4b09-abe2-254fe789bf73",
   "metadata": {},
   "outputs": [],
   "source": [
    "#Indexing"
   ]
  },
  {
   "cell_type": "code",
   "execution_count": 434,
   "id": "b82419bd-5596-436f-a271-80faee6ddc4d",
   "metadata": {},
   "outputs": [],
   "source": [
    "fruits = ['apple', 'banana', 'cherry', 'date', 'elderberry', 'fig', 'grape']"
   ]
  },
  {
   "cell_type": "code",
   "execution_count": 436,
   "id": "720c7771-65b3-4d1e-aa8b-19c78d2ed3b9",
   "metadata": {},
   "outputs": [
    {
     "name": "stdout",
     "output_type": "stream",
     "text": [
      "apple\n"
     ]
    }
   ],
   "source": [
    "print(fruits[0]) \n"
   ]
  },
  {
   "cell_type": "code",
   "execution_count": 438,
   "id": "c91ae48e-9d28-4928-a4fc-f557f4d8a2f6",
   "metadata": {},
   "outputs": [
    {
     "name": "stdout",
     "output_type": "stream",
     "text": [
      "grape\n"
     ]
    }
   ],
   "source": [
    "print(fruits[-1])  # Output: 'grape'\n"
   ]
  },
  {
   "cell_type": "code",
   "execution_count": 440,
   "id": "89cb3c64-6553-48bb-84be-18a89644c959",
   "metadata": {},
   "outputs": [
    {
     "name": "stdout",
     "output_type": "stream",
     "text": [
      "cherry\n"
     ]
    }
   ],
   "source": [
    "print(fruits[2])  # Output: 'cherry'\n"
   ]
  },
  {
   "cell_type": "code",
   "execution_count": 448,
   "id": "0b0feffc-d411-44e7-a553-85491f3fd1cc",
   "metadata": {},
   "outputs": [],
   "source": [
    "# Slicing "
   ]
  },
  {
   "cell_type": "code",
   "execution_count": 450,
   "id": "dde0c061-c69f-4719-bcf7-18dd49de7634",
   "metadata": {},
   "outputs": [
    {
     "name": "stdout",
     "output_type": "stream",
     "text": [
      "['apple', 'banana', 'cherry']\n"
     ]
    }
   ],
   "source": [
    "print(fruits[:3])  # Output: ['apple', 'banana', 'cherry']\n"
   ]
  },
  {
   "cell_type": "code",
   "execution_count": 452,
   "id": "38b42254-8c2a-4f45-9b7d-c88369adfdcb",
   "metadata": {},
   "outputs": [
    {
     "name": "stdout",
     "output_type": "stream",
     "text": [
      "['cherry', 'date', 'elderberry']\n"
     ]
    }
   ],
   "source": [
    "print(fruits[2:5]) \n"
   ]
  },
  {
   "cell_type": "code",
   "execution_count": 454,
   "id": "ed54606a-eab8-4b2e-bf11-62606b24e70f",
   "metadata": {},
   "outputs": [
    {
     "name": "stdout",
     "output_type": "stream",
     "text": [
      "['apple', 'cherry', 'elderberry', 'grape']\n"
     ]
    }
   ],
   "source": [
    "print(fruits[::2])  \n"
   ]
  },
  {
   "cell_type": "code",
   "execution_count": 456,
   "id": "407ac41f-0ac7-47ee-a018-691d84ba5127",
   "metadata": {},
   "outputs": [
    {
     "name": "stdout",
     "output_type": "stream",
     "text": [
      "['grape', 'fig', 'elderberry', 'date', 'cherry', 'banana', 'apple']\n"
     ]
    }
   ],
   "source": [
    "print(fruits[::-1])  "
   ]
  },
  {
   "cell_type": "code",
   "execution_count": null,
   "id": "70007800-05aa-4831-a5d2-66e533d963b9",
   "metadata": {},
   "outputs": [],
   "source": []
  }
 ],
 "metadata": {
  "kernelspec": {
   "display_name": "Python 3 (ipykernel)",
   "language": "python",
   "name": "python3"
  },
  "language_info": {
   "codemirror_mode": {
    "name": "ipython",
    "version": 3
   },
   "file_extension": ".py",
   "mimetype": "text/x-python",
   "name": "python",
   "nbconvert_exporter": "python",
   "pygments_lexer": "ipython3",
   "version": "3.12.4"
  }
 },
 "nbformat": 4,
 "nbformat_minor": 5
}
